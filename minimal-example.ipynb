{
 "cells": [
  {
   "cell_type": "markdown",
   "metadata": {},
   "source": [
    "# Minimal example"
   ]
  },
  {
   "cell_type": "markdown",
   "metadata": {},
   "source": [
    "**The problem**:\n",
    "\n",
    "Running the image processing using `docarray` I found that for some reason empty output is generated and printed to the cell output. I'd like to hide that output if possible, or not produce it in the first place.\n",
    "\n",
    "**Context**:\n",
    "\n",
    "I am working on a project where one object has a bunch of associated images. Also the number of images may vary between objects. Hence `docarray` seems like a neat tool to solve the problem. In order to loop those images I am using `docarray` helper methods, e.g. `map` and `map_batch`. I've just started using this package, so the source of my problem is likely my on my side. But any help would be greatly appreciated."
   ]
  },
  {
   "cell_type": "code",
   "execution_count": null,
   "metadata": {},
   "outputs": [],
   "source": [
    "from docarray import Document, DocumentArray, dataclass\n",
    "from docarray.typing import Image\n",
    "from typing import List"
   ]
  },
  {
   "cell_type": "markdown",
   "metadata": {},
   "source": [
    "For reproducibility let's load one image an re-use it"
   ]
  },
  {
   "cell_type": "markdown",
   "metadata": {},
   "source": [
    "`wget https://docarray.jina.ai/_images/apple1.png`"
   ]
  },
  {
   "cell_type": "code",
   "execution_count": null,
   "metadata": {},
   "outputs": [],
   "source": [
    "uri = \"apple1.png\""
   ]
  },
  {
   "cell_type": "markdown",
   "metadata": {},
   "source": [
    "Let's use `dataclass` as a template for the objects with multiple images. "
   ]
  },
  {
   "cell_type": "code",
   "execution_count": null,
   "metadata": {},
   "outputs": [],
   "source": [
    "@dataclass\n",
    "class Basket: # this is where the apples go\n",
    "    images: List[Image] "
   ]
  },
  {
   "cell_type": "markdown",
   "metadata": {},
   "source": [
    "Generating the baskets"
   ]
  },
  {
   "cell_type": "code",
   "execution_count": null,
   "metadata": {},
   "outputs": [],
   "source": [
    "n_baskets = 10\n",
    "n_items = 3 # all baskets have the same number of apples for simplicity\n",
    "\n",
    "baskets = DocumentArray([\n",
    "    Document(Basket(images= [uri for _ in range(n_items)]))\n",
    "    for _ in range(n_baskets)\n",
    "])"
   ]
  },
  {
   "cell_type": "markdown",
   "metadata": {},
   "source": [
    "To step through our baskets batch-wise let's define our helper functions"
   ]
  },
  {
   "cell_type": "code",
   "execution_count": null,
   "metadata": {},
   "outputs": [],
   "source": [
    "image_size = (64,64)\n",
    "\n",
    "def img_func(d:Document): # tensor transforms here don't seem to generate the output\n",
    "    return (d\n",
    "    .set_image_tensor_shape(image_size)\n",
    "    .set_image_tensor_normalization()\n",
    "    .set_image_tensor_channel_axis(original_channel_axis=-1, new_channel_axis=0)\n",
    "    )\n",
    "\n",
    "def chunk_func(d:Document):   \n",
    "    # iterating Basket.images \n",
    "    return DocumentArray(d.chunks[0].chunks.map(img_func)) # <= empty output generated here?\n",
    "\n",
    "def batch_func(b:DocumentArray):\n",
    "    # iterating iterate Basket documents in batch\n",
    "    return b.map(chunk_func) # <= empty output generated here?\n"
   ]
  },
  {
   "cell_type": "markdown",
   "metadata": {},
   "source": [
    "Actually doing the looping"
   ]
  },
  {
   "cell_type": "code",
   "execution_count": null,
   "metadata": {},
   "outputs": [],
   "source": [
    "batch_size = 5\n",
    "\n",
    "for i, b in enumerate(baskets.map_batch(batch_func, batch_size=batch_size)):\n",
    "    images = [_d.tensors for _d in b]\n",
    "    "
   ]
  }
 ],
 "metadata": {
  "kernelspec": {
   "display_name": "Python 3.9.0 ('.venv': poetry)",
   "language": "python",
   "name": "python3"
  },
  "language_info": {
   "codemirror_mode": {
    "name": "ipython",
    "version": 3
   },
   "file_extension": ".py",
   "mimetype": "text/x-python",
   "name": "python",
   "nbconvert_exporter": "python",
   "pygments_lexer": "ipython3",
   "version": "3.9.0"
  },
  "orig_nbformat": 4,
  "vscode": {
   "interpreter": {
    "hash": "fcd5a5d901382e537d02da8c36e4ae3bb28f6879c18f7c77c7e539506cff5832"
   }
  }
 },
 "nbformat": 4,
 "nbformat_minor": 2
}
